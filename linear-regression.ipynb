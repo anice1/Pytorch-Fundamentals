{
 "cells": [
  {
   "cell_type": "markdown",
   "metadata": {},
   "source": [
    "# Pytorch Workflow\n",
    "1. Get the data ready\n",
    "2. Build or pick a pretrained model that suits your problem\n",
    "    - Pick a loss function and optimizer\n",
    "    - Build a training loop\n",
    "3. Fit the model to the data and make predictions\n",
    "4. Evaluate the model\n",
    "5. Improve through experimentation\n",
    "6. Save and reload your trained model"
   ]
  },
  {
   "cell_type": "code",
   "execution_count": 200,
   "metadata": {},
   "outputs": [],
   "source": [
    "import matplotlib.pyplot as plt\n",
    "from torch import nn\n",
    "import torch"
   ]
  },
  {
   "cell_type": "markdown",
   "metadata": {},
   "source": [
    "`nn` contains all of pytorch's building blocks for neural networks\n",
    "\n",
    "Reference: to https://pytorch.org/docs/stable/nn.html"
   ]
  },
  {
   "cell_type": "markdown",
   "metadata": {},
   "source": [
    "### Preparing and Loading Our Data\n",
    "\n",
    "Machine learning is a game of 2 parts:\n",
    "1. Get data into numerical representation\n",
    "2. Build a model to learn that numerical representations"
   ]
  },
  {
   "cell_type": "code",
   "execution_count": 201,
   "metadata": {},
   "outputs": [],
   "source": [
    "weight = 0.7\n",
    "bias = 0.3"
   ]
  },
  {
   "cell_type": "code",
   "execution_count": 202,
   "metadata": {},
   "outputs": [],
   "source": [
    "X = torch.arange(0,1, 0.02).unsqueeze(dim=1)\n",
    "y = weight * X + bias"
   ]
  },
  {
   "cell_type": "code",
   "execution_count": 203,
   "metadata": {},
   "outputs": [
    {
     "data": {
      "text/plain": [
       "(torch.Size([50, 1]), torch.Size([50, 1]))"
      ]
     },
     "execution_count": 203,
     "metadata": {},
     "output_type": "execute_result"
    }
   ],
   "source": [
    "y.shape, X.shape"
   ]
  },
  {
   "cell_type": "markdown",
   "metadata": {},
   "source": [
    "### Split the data into train and test sets\n",
    "There are 2 ways we could do this\n",
    "1. using our custom defined function to do this or using \n",
    "2. The scikit learn train_test_split function"
   ]
  },
  {
   "cell_type": "code",
   "execution_count": 204,
   "metadata": {},
   "outputs": [],
   "source": [
    "# Using our custom defined function to do this or using\n",
    "def split_data(X, y, train_size):\n",
    "    X_train = X[:int(len(X)*train_size)]\n",
    "    X_test = X[len(X_train):]\n",
    "    y_train = y[:int(len(y)*train_size)]\n",
    "    y_test = y[len(y_train):]\n",
    "    \n",
    "    return X_train, X_test, y_train, y_test\n",
    "\n",
    "# X_train, X_test, y_train, y_test = split_data(X, y, .8)"
   ]
  },
  {
   "cell_type": "code",
   "execution_count": 205,
   "metadata": {},
   "outputs": [],
   "source": [
    "# The scikit learn train_test_split function, this one adds a bit of randomness to our data which what we want.\n",
    "from sklearn.model_selection import train_test_split\n",
    "X_train, X_test, y_train, y_test = train_test_split(X, y, train_size=.8)"
   ]
  },
  {
   "cell_type": "code",
   "execution_count": 206,
   "metadata": {},
   "outputs": [],
   "source": [
    "import pandas as pd"
   ]
  },
  {
   "cell_type": "code",
   "execution_count": 207,
   "metadata": {},
   "outputs": [
    {
     "data": {
      "text/html": [
       "<div>\n",
       "<style scoped>\n",
       "    .dataframe tbody tr th:only-of-type {\n",
       "        vertical-align: middle;\n",
       "    }\n",
       "\n",
       "    .dataframe tbody tr th {\n",
       "        vertical-align: top;\n",
       "    }\n",
       "\n",
       "    .dataframe thead th {\n",
       "        text-align: right;\n",
       "    }\n",
       "</style>\n",
       "<table border=\"1\" class=\"dataframe\">\n",
       "  <thead>\n",
       "    <tr style=\"text-align: right;\">\n",
       "      <th></th>\n",
       "      <th>X</th>\n",
       "      <th>y</th>\n",
       "    </tr>\n",
       "  </thead>\n",
       "  <tbody>\n",
       "    <tr>\n",
       "      <th>0</th>\n",
       "      <td>0.00</td>\n",
       "      <td>0.300</td>\n",
       "    </tr>\n",
       "    <tr>\n",
       "      <th>1</th>\n",
       "      <td>0.02</td>\n",
       "      <td>0.314</td>\n",
       "    </tr>\n",
       "    <tr>\n",
       "      <th>2</th>\n",
       "      <td>0.04</td>\n",
       "      <td>0.328</td>\n",
       "    </tr>\n",
       "    <tr>\n",
       "      <th>3</th>\n",
       "      <td>0.06</td>\n",
       "      <td>0.342</td>\n",
       "    </tr>\n",
       "    <tr>\n",
       "      <th>4</th>\n",
       "      <td>0.08</td>\n",
       "      <td>0.356</td>\n",
       "    </tr>\n",
       "  </tbody>\n",
       "</table>\n",
       "</div>"
      ],
      "text/plain": [
       "      X      y\n",
       "0  0.00  0.300\n",
       "1  0.02  0.314\n",
       "2  0.04  0.328\n",
       "3  0.06  0.342\n",
       "4  0.08  0.356"
      ]
     },
     "execution_count": 207,
     "metadata": {},
     "output_type": "execute_result"
    }
   ],
   "source": [
    "# Convert our data into a more structured format\n",
    "X = X.squeeze()\n",
    "y = y.squeeze()\n",
    "data = pd.DataFrame({'X':X, 'y':y})\n",
    "data.head()"
   ]
  },
  {
   "cell_type": "code",
   "execution_count": 208,
   "metadata": {},
   "outputs": [
    {
     "data": {
      "image/png": "[encoded data removed]",
      "text/plain": [
       "<Figure size 700x490 with 1 Axes>"
      ]
     },
     "metadata": {
      "needs_background": "light"
     },
     "output_type": "display_data"
    }
   ],
   "source": [
    "def plot_prediction(train_data=X_train, \n",
    "                    train_label=y_train, \n",
    "                    test_data=X_test, \n",
    "                    test_label=y_test, \n",
    "                    prediction=None):\n",
    "    \"\"\"Plots a scatter plot of train, test and prediction data\"\"\"\n",
    "\n",
    "    # plot the train data\n",
    "    plt.figure(figsize=(10, 7))\n",
    "    plt.rcParams['figure.dpi'] = 70\n",
    "    plt.scatter(train_data, train_label, c='b', marker='X', s=10, label='Train data')\n",
    "\n",
    "    # plot the test data\n",
    "    plt.scatter(test_data, test_label, c='g', marker='X', s=10, label='Test data')\n",
    "\n",
    "    # plot the prediction\n",
    "    if prediction is not None:\n",
    "        plt.scatter(test_data, prediction, c='r', marker='X', s=10, label='Predictions')\n",
    "\n",
    "    plt.legend(prop={'size': 14});\n",
    "\n",
    "plot_prediction()"
   ]
  },
  {
   "cell_type": "markdown",
   "metadata": {},
   "source": [
    "## Linear Regression Modelling in Pytorch"
   ]
  },
  {
   "cell_type": "code",
   "execution_count": 209,
   "metadata": {},
   "outputs": [],
   "source": [
    "# create a linear regression pytorch class\n",
    "class LinearRegressionModel(nn.Module):\n",
    "    # create a constructor\n",
    "    def __init__(self):\n",
    "        super().__init__()\n",
    "        self.weight = nn.Parameter(torch.randn(1, requires_grad=True, dtype=torch.float32))\n",
    "        self.bias = nn.Parameter(torch.randn(1, requires_grad=True, dtype=torch.float32))\n",
    "    \n",
    "    # Forward defines the computation in the model\n",
    "    def forward(self, x:torch.Tensor) -> torch.Tensor:\n",
    "        return self.weight * x + self.bias"
   ]
  },
  {
   "cell_type": "markdown",
   "metadata": {},
   "source": [
    "`torch.optim` - Contains various optimization algorithms (these tell the model parameters stored in nn.Parameter how to best change to improve gradient descent and in turn reduce the loss)."
   ]
  },
  {
   "cell_type": "code",
   "execution_count": 210,
   "metadata": {},
   "outputs": [],
   "source": [
    "# Create a manual seed\n",
    "torch.manual_seed(42)\n",
    "\n",
    "# Instantiate our model\n",
    "model_0 = LinearRegressionModel()"
   ]
  },
  {
   "cell_type": "code",
   "execution_count": 211,
   "metadata": {},
   "outputs": [
    {
     "data": {
      "text/plain": [
       "[Parameter containing:\n",
       " tensor([0.3367], requires_grad=True),\n",
       " Parameter containing:\n",
       " tensor([0.1288], requires_grad=True)]"
      ]
     },
     "execution_count": 211,
     "metadata": {},
     "output_type": "execute_result"
    }
   ],
   "source": [
    "list(model_0.parameters())"
   ]
  },
  {
   "cell_type": "code",
   "execution_count": 212,
   "metadata": {},
   "outputs": [
    {
     "data": {
      "text/plain": [
       "OrderedDict([('weight', tensor([0.3367])), ('bias', tensor([0.1288]))])"
      ]
     },
     "execution_count": 212,
     "metadata": {},
     "output_type": "execute_result"
    }
   ],
   "source": [
    "model_0.state_dict() #list the named parameters (In our case self.weight and self.bias with their respective values)"
   ]
  },
  {
   "cell_type": "markdown",
   "metadata": {},
   "source": [
    "### Make Predictions with Our Model using `torch.infrence_mode()`"
   ]
  },
  {
   "cell_type": "code",
   "execution_count": 213,
   "metadata": {},
   "outputs": [
    {
     "data": {
      "text/plain": [
       "tensor([[0.2433],\n",
       "        [0.2568],\n",
       "        [0.2702],\n",
       "        [0.1557],\n",
       "        [0.2904],\n",
       "        [0.3712],\n",
       "        [0.1490],\n",
       "        [0.3645],\n",
       "        [0.1894],\n",
       "        [0.1625]])"
      ]
     },
     "execution_count": 213,
     "metadata": {},
     "output_type": "execute_result"
    }
   ],
   "source": [
    "with torch.inference_mode():\n",
    "    y_pred = model_0(X_test)\n",
    "\n",
    "y_pred"
   ]
  },
  {
   "cell_type": "code",
   "execution_count": 214,
   "metadata": {},
   "outputs": [
    {
     "data": {
      "image/png": "[encoded data removed]",
      "text/plain": [
       "<Figure size 700x490 with 1 Axes>"
      ]
     },
     "metadata": {
      "needs_background": "light"
     },
     "output_type": "display_data"
    }
   ],
   "source": [
    "plot_prediction(prediction=y_pred)"
   ]
  },
  {
   "cell_type": "markdown",
   "metadata": {},
   "source": [
    "### Loss Functions and Optimizers"
   ]
  },
  {
   "cell_type": "code",
   "execution_count": 215,
   "metadata": {},
   "outputs": [],
   "source": [
    "# Now the next thing to do is to setup a loss function to evaluate the performance of our model.\n",
    "# The loss function will help us understand how far our model's predictions are from the true values\n",
    "# Pytorch has bunch of loss functions to pick from depending on the problem we are solving \n",
    "\n",
    "# reference: https://pytorch.org/docs/stable/nn.html#loss-functions\n",
    "# There are over 20 of them\n",
    "# we are going to use the Mean Absolute Error for our evaluation, Note: pytorch calls this the L1Loss (Creates a criterion that measures the mean absolute error (MAE) between each element in the input xxx and target yyy.)\n",
    "\n",
    "# setup the loss function\n",
    "loss_fn = nn.L1Loss()"
   ]
  },
  {
   "cell_type": "code",
   "execution_count": 216,
   "metadata": {},
   "outputs": [],
   "source": [
    "# Next is to setup our optimizer, think of the optimizer as a car speed regulator that tells a car/owner what best gear to use during acceleration. I can't think any better, lol.\n",
    "\n",
    "# Basically it tell the models how to best adjusts its weight and biases in other to improve the loss function (reduce the loss)\n",
    "\n",
    "# reference: https://pytorch.org/docs/stable/optim.html?highlight=optimizer#torch.optim.Optimizer\n",
    "\n",
    "# setup the optimizer\n",
    "optimizer = torch.optim.SGD(params=model_0.parameters(), lr=0.001)"
   ]
  },
  {
   "cell_type": "markdown",
   "metadata": {},
   "source": [
    "### Build a Training and Testing Loop\n",
    "\n",
    "**Steps:**\n",
    "1. Loop through the data\n",
    "2. Make a forward propagation (by calling the forward method in our model's class)\n",
    "3. Calculate the loss by compairing forward pass prediction to the ground truth\n",
    "4. Optimize zero grad\n",
    "5. Loss backward (Move backwards through the network to calculate the gradient of each of the parameters)\n",
    "6. Optimizer step (Use the optimizer to adjust the parameters to improve the loss function)"
   ]
  },
  {
   "cell_type": "code",
   "execution_count": 261,
   "metadata": {},
   "outputs": [
    {
     "name": "stdout",
     "output_type": "stream",
     "text": [
      "Epoch: 0 | Train Loss: 0.00032505913986824453 | Test Loss: 0.0007479816558770835\n",
      "Epoch: 10 | Train Loss: 0.00032505913986824453 | Test Loss: 0.0007479816558770835\n",
      "Epoch: 20 | Train Loss: 0.00032505913986824453 | Test Loss: 0.0007479816558770835\n",
      "Epoch: 30 | Train Loss: 0.00032505913986824453 | Test Loss: 0.0007479816558770835\n",
      "Epoch: 40 | Train Loss: 0.00032505913986824453 | Test Loss: 0.0007479816558770835\n",
      "Epoch: 50 | Train Loss: 0.00032505913986824453 | Test Loss: 0.0007479816558770835\n",
      "Epoch: 60 | Train Loss: 0.00032505913986824453 | Test Loss: 0.0007479816558770835\n",
      "Epoch: 70 | Train Loss: 0.00032505913986824453 | Test Loss: 0.0007479816558770835\n",
      "Epoch: 80 | Train Loss: 0.00032505913986824453 | Test Loss: 0.0007479816558770835\n",
      "Epoch: 90 | Train Loss: 0.00032505913986824453 | Test Loss: 0.0007479816558770835\n",
      "Epoch: 100 | Train Loss: 0.00032505913986824453 | Test Loss: 0.0007479816558770835\n",
      "Epoch: 110 | Train Loss: 0.00032505913986824453 | Test Loss: 0.0007479816558770835\n",
      "Epoch: 120 | Train Loss: 0.00032505913986824453 | Test Loss: 0.0007479816558770835\n",
      "Epoch: 130 | Train Loss: 0.00032505913986824453 | Test Loss: 0.0007479816558770835\n",
      "Epoch: 140 | Train Loss: 0.00032505913986824453 | Test Loss: 0.0007479816558770835\n",
      "Epoch: 150 | Train Loss: 0.00032505913986824453 | Test Loss: 0.0007479816558770835\n",
      "Epoch: 160 | Train Loss: 0.00032505913986824453 | Test Loss: 0.0007479816558770835\n",
      "Epoch: 170 | Train Loss: 0.00032505913986824453 | Test Loss: 0.0007479816558770835\n",
      "Epoch: 180 | Train Loss: 0.00032505913986824453 | Test Loss: 0.0007479816558770835\n",
      "Epoch: 190 | Train Loss: 0.00032505913986824453 | Test Loss: 0.0007479816558770835\n"
     ]
    }
   ],
   "source": [
    "epochs = 200 #number of loops through the data\n",
    "epoch_count = []\n",
    "loss_values = []\n",
    "test_loss_values = []\n",
    "\n",
    "# 1. Loop through the data\n",
    "torch.manual_seed(42)\n",
    "for epoch in range(epochs):\n",
    "    # set the model to training mode\n",
    "    model_0.train()\n",
    "\n",
    "    # 2. Forward propagation\n",
    "    y_pred = model_0(X_train)\n",
    "\n",
    "    # 3. Calculate the loss \n",
    "    loss = loss_fn(y_pred, y_train)\n",
    "\n",
    "    # 4. Optimize zero grad\n",
    "    optimizer.zero_grad()\n",
    "\n",
    "    # 5. Loss Backward (Back propagation)\n",
    "    loss.backward()\n",
    "\n",
    "    # 6. Optimizer Step (Adjust the parameters to improve the loss function)\n",
    "    optimizer.step()\n",
    "\n",
    "\n",
    "    ## TESTING\n",
    "\n",
    "    # Turn off gradient tracking\n",
    "    model_0.eval()\n",
    "\n",
    "    # print the model parameters\n",
    "    # print(model_0.state_dict())\n",
    "\n",
    "    with torch.inference_mode():\n",
    "        # perform the forward propagation\n",
    "        test_pred = model_0(X_test)\n",
    "\n",
    "        # calculate the loss\n",
    "        test_loss = loss_fn(test_pred, y_test)\n",
    "\n",
    "    if epoch%10 == 0:\n",
    "        print(f'Epoch: {epoch} | Train Loss: {loss} | Test Loss: {test_loss}')\n",
    "        # track our model loss and test loss\n",
    "        epoch_count.append(epoch)\n",
    "        loss_values.append(loss.detach().numpy())\n",
    "        test_loss_values.append(test_loss.detach().numpy())"
   ]
  },
  {
   "cell_type": "code",
   "execution_count": 262,
   "metadata": {},
   "outputs": [],
   "source": [
    "# lets make some predictions using the inference mode\n",
    "with torch.inference_mode():\n",
    "    y_pred_new = model_0(X_test)"
   ]
  },
  {
   "cell_type": "code",
   "execution_count": 263,
   "metadata": {},
   "outputs": [
    {
     "data": {
      "image/png": "[encoded data removed]",
      "text/plain": [
       "<Figure size 700x490 with 1 Axes>"
      ]
     },
     "metadata": {
      "needs_background": "light"
     },
     "output_type": "display_data"
    }
   ],
   "source": [
    "plot_prediction(prediction=y_pred_new)"
   ]
  },
  {
   "cell_type": "code",
   "execution_count": 264,
   "metadata": {},
   "outputs": [
    {
     "data": {
      "text/plain": [
       "OrderedDict([('weight', tensor([0.6994])), ('bias', tensor([0.3006]))])"
      ]
     },
     "execution_count": 264,
     "metadata": {},
     "output_type": "execute_result"
    }
   ],
   "source": [
    "model_0.state_dict()"
   ]
  },
  {
   "cell_type": "code",
   "execution_count": 265,
   "metadata": {},
   "outputs": [
    {
     "data": {
      "text/plain": [
       "(0.7, 0.3)"
      ]
     },
     "execution_count": 265,
     "metadata": {},
     "output_type": "execute_result"
    }
   ],
   "source": [
    "weight, bias"
   ]
  },
  {
   "cell_type": "code",
   "execution_count": 266,
   "metadata": {},
   "outputs": [
    {
     "data": {
      "image/png": "[encoded data removed]",
      "text/plain": [
       "<Figure size 420x280 with 1 Axes>"
      ]
     },
     "metadata": {
      "needs_background": "light"
     },
     "output_type": "display_data"
    }
   ],
   "source": [
    "# create a function to plot our loss curves \n",
    "\n",
    "def plot_loss_curve(loss_values=loss_values, test_loss_values=test_loss_values):\n",
    "    # plot the train loss curve\n",
    "    plt.plot(epoch_count, loss_values, label='Train Loss')\n",
    "\n",
    "    # plot the test loss curve\n",
    "    plt.plot(epoch_count, test_loss_values, label='Test Loss')\n",
    "\n",
    "    # add a title\n",
    "    plt.title('Train and test loss curve')\n",
    "\n",
    "    plt.xlabel('Epoch')\n",
    "    plt.ylabel('Loss')\n",
    "\n",
    "    plt.legend()\n",
    "\n",
    "\n",
    "plot_loss_curve()"
   ]
  },
  {
   "cell_type": "code",
   "execution_count": null,
   "metadata": {},
   "outputs": [],
   "source": []
  }
 ],
 "metadata": {
  "kernelspec": {
   "display_name": "Python 3.10.0 ('pytorch')",
   "language": "python",
   "name": "python3"
  },
  "language_info": {
   "codemirror_mode": {
    "name": "ipython",
    "version": 3
   },
   "file_extension": ".py",
   "mimetype": "text/x-python",
   "name": "python",
   "nbconvert_exporter": "python",
   "pygments_lexer": "ipython3",
   "version": "3.10.0"
  },
  "orig_nbformat": 4,
  "vscode": {
   "interpreter": {
    "hash": "920618a1eb37c4bb7a3be65bbdadcdee3f435d9948b2f4911562f49c5fa464a5"
   }
  }
 },
 "nbformat": 4,
 "nbformat_minor": 2
}
