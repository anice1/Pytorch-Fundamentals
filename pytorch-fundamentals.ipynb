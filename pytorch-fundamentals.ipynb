{
 "cells": [
  {
   "cell_type": "code",
   "execution_count": 1,
   "metadata": {},
   "outputs": [],
   "source": [
    "import torch\n",
    "import numpy as np\n",
    "import matplotlib.pyplot as plt"
   ]
  },
  {
   "cell_type": "code",
   "execution_count": 4,
   "metadata": {},
   "outputs": [
    {
     "data": {
      "text/plain": [
       "'1.12.0'"
      ]
     },
     "execution_count": 4,
     "metadata": {},
     "output_type": "execute_result"
    }
   ],
   "source": [
    "# check pytorch version\n",
    "torch.__version__"
   ]
  },
  {
   "cell_type": "markdown",
   "metadata": {},
   "source": [
    "### Intro to tensors in pytorch"
   ]
  },
  {
   "cell_type": "code",
   "execution_count": 64,
   "metadata": {},
   "outputs": [],
   "source": [
    "# Tensors are a way to represent data in a computer memory.\n",
    "# Tensors are a multi-dimensional array of numbers.\n",
    "# Tensors can be of any size and shape.\n",
    "# Tensors can be of any type."
   ]
  },
  {
   "cell_type": "markdown",
   "metadata": {},
   "source": [
    "#### create a scalar tensor"
   ]
  },
  {
   "cell_type": "code",
   "execution_count": null,
   "metadata": {},
   "outputs": [],
   "source": [
    "scalar = torch.tensor(10)\n",
    "scalar"
   ]
  },
  {
   "cell_type": "code",
   "execution_count": 5,
   "metadata": {},
   "outputs": [
    {
     "data": {
      "text/plain": [
       "10"
      ]
     },
     "execution_count": 5,
     "metadata": {},
     "output_type": "execute_result"
    }
   ],
   "source": [
    "# Attributes of a scalar tensor\n",
    "scalar.item() # returns the scalar value\n",
    "scalar.dtype # returns the data type of the tensor"
   ]
  },
  {
   "cell_type": "code",
   "execution_count": 15,
   "metadata": {},
   "outputs": [],
   "source": [
    "vector = torch.tensor([1,2,3]) # create a vector tensor\n",
    "vector.shape"
   ]
  },
  {
   "cell_type": "code",
   "execution_count": 17,
   "metadata": {},
   "outputs": [
    {
     "data": {
      "text/plain": [
       "torch.Size([2, 3])"
      ]
     },
     "execution_count": 17,
     "metadata": {},
     "output_type": "execute_result"
    }
   ],
   "source": [
    "matrix = torch.tensor([[1,2,3],[4,5,6]]) # create a matrix tensor\n",
    "matrix.shape"
   ]
  },
  {
   "cell_type": "code",
   "execution_count": 23,
   "metadata": {},
   "outputs": [
    {
     "data": {
      "text/plain": [
       "tensor([1, 2, 3])"
      ]
     },
     "execution_count": 23,
     "metadata": {},
     "output_type": "execute_result"
    }
   ],
   "source": [
    "matrix[0] # returns the values at the first row"
   ]
  },
  {
   "cell_type": "code",
   "execution_count": 25,
   "metadata": {},
   "outputs": [
    {
     "data": {
      "text/plain": [
       "tensor([[[ 1,  2,  4],\n",
       "         [ 5,  6,  7],\n",
       "         [ 8,  9,  0],\n",
       "         [11, 12, 13]]])"
      ]
     },
     "execution_count": 25,
     "metadata": {},
     "output_type": "execute_result"
    }
   ],
   "source": [
    "tensor = torch.tensor([[[1,2,4],[5,6,7],[8,9,0], [11,12,13]]]) # create a tensor with 3 dimensions\n",
    "tensor"
   ]
  },
  {
   "cell_type": "code",
   "execution_count": 26,
   "metadata": {},
   "outputs": [
    {
     "data": {
      "text/plain": [
       "torch.Size([1, 4, 3])"
      ]
     },
     "execution_count": 26,
     "metadata": {},
     "output_type": "execute_result"
    }
   ],
   "source": [
    "tensor.shape"
   ]
  },
  {
   "cell_type": "code",
   "execution_count": 31,
   "metadata": {},
   "outputs": [
    {
     "data": {
      "text/plain": [
       "tensor([ 2,  6,  9, 12])"
      ]
     },
     "execution_count": 31,
     "metadata": {},
     "output_type": "execute_result"
    }
   ],
   "source": [
    "tensor[0,:, 1]"
   ]
  },
  {
   "cell_type": "code",
   "execution_count": 32,
   "metadata": {},
   "outputs": [
    {
     "data": {
      "text/plain": [
       "tensor([[0.7306, 0.2444, 0.2748],\n",
       "        [0.7789, 0.4969, 0.8186],\n",
       "        [0.4327, 0.9859, 0.8825]])"
      ]
     },
     "execution_count": 32,
     "metadata": {},
     "output_type": "execute_result"
    }
   ],
   "source": [
    "# Creating random Tensors\n",
    "# The torch.rand function returns a tensor of random numbers drawn from a uniform distribution.\n",
    "# The torch.randn function returns a tensor of random numbers drawn from a normal distribution.\n",
    "# The torch.empty function returns a tensor of zeros.\n",
    "# The torch.zeros function returns a tensor of zeros.\n",
    "# The torch.ones function returns a tensor of ones.\n",
    "# The torch.randint function returns a tensor of random integers.\n",
    "# The torch.randperm function returns a tensor of random permutations.\n",
    "\n",
    "rand_dist = torch.rand((3,3))"
   ]
  },
  {
   "cell_type": "code",
   "execution_count": 35,
   "metadata": {},
   "outputs": [
    {
     "data": {
      "text/plain": [
       "tensor([[ 0.7090,  0.7798, -1.1736],\n",
       "        [-0.7551,  0.4027, -2.4941],\n",
       "        [ 1.1577, -0.1630, -0.2470]])"
      ]
     },
     "execution_count": 35,
     "metadata": {},
     "output_type": "execute_result"
    }
   ],
   "source": [
    "## Tensor of random numbers drawn from a normal distribution\n",
    "randn = torch.randn((3,3))\n",
    "randn"
   ]
  },
  {
   "cell_type": "code",
   "execution_count": 36,
   "metadata": {},
   "outputs": [
    {
     "data": {
      "text/plain": [
       "tensor([[0.0000e+00, 2.5244e-29, 0.0000e+00],\n",
       "        [2.5244e-29, 1.1210e-44, 6.7262e-44],\n",
       "        [7.8473e-44, 6.3058e-44, 6.7262e-44]])"
      ]
     },
     "execution_count": 36,
     "metadata": {},
     "output_type": "execute_result"
    }
   ],
   "source": [
    "rand_emp = torch.empty((3,3))\n",
    "rand_emp"
   ]
  },
  {
   "cell_type": "code",
   "execution_count": 37,
   "metadata": {},
   "outputs": [
    {
     "data": {
      "text/plain": [
       "tensor([[0., 0., 0.],\n",
       "        [0., 0., 0.],\n",
       "        [0., 0., 0.]])"
      ]
     },
     "execution_count": 37,
     "metadata": {},
     "output_type": "execute_result"
    }
   ],
   "source": [
    "## Tensor of zeros\n",
    "rand_zeros = torch.zeros((3,3))\n",
    "rand_zeros"
   ]
  },
  {
   "cell_type": "code",
   "execution_count": 45,
   "metadata": {},
   "outputs": [
    {
     "data": {
      "text/plain": [
       "tensor([[1., 1., 1.],\n",
       "        [1., 1., 1.],\n",
       "        [1., 1., 1.]])"
      ]
     },
     "execution_count": 45,
     "metadata": {},
     "output_type": "execute_result"
    }
   ],
   "source": [
    "## Tensor of Ones\n",
    "rand_ones = torch.ones([3,3])\n",
    "rand_ones"
   ]
  },
  {
   "cell_type": "code",
   "execution_count": 48,
   "metadata": {},
   "outputs": [
    {
     "data": {
      "text/plain": [
       "tensor([[4, 1, 7],\n",
       "        [8, 1, 0],\n",
       "        [8, 5, 1]])"
      ]
     },
     "execution_count": 48,
     "metadata": {},
     "output_type": "execute_result"
    }
   ],
   "source": [
    "rand_int = torch.randint(0,10,(3,3))\n",
    "rand_int"
   ]
  },
  {
   "cell_type": "code",
   "execution_count": 49,
   "metadata": {},
   "outputs": [
    {
     "data": {
      "text/plain": [
       "tensor([3, 7, 0, 8, 2, 1, 5, 4, 6, 9])"
      ]
     },
     "execution_count": 49,
     "metadata": {},
     "output_type": "execute_result"
    }
   ],
   "source": [
    "rand_perm = torch.randperm(10)\n",
    "rand_perm"
   ]
  },
  {
   "cell_type": "code",
   "execution_count": 54,
   "metadata": {},
   "outputs": [
    {
     "data": {
      "text/plain": [
       "tensor([[[0.5883, 0.4222, 0.0186],\n",
       "         [0.8455, 0.9189, 0.5782],\n",
       "         [0.6354, 0.5553, 0.4284],\n",
       "         ...,\n",
       "         [0.2730, 0.8541, 0.7923],\n",
       "         [0.2383, 0.4597, 0.1693],\n",
       "         [0.0504, 0.5306, 0.4999]],\n",
       "\n",
       "        [[0.5147, 0.5788, 0.2183],\n",
       "         [0.8599, 0.6117, 0.1179],\n",
       "         [0.0217, 0.1642, 0.2628],\n",
       "         ...,\n",
       "         [0.7509, 0.2006, 0.1829],\n",
       "         [0.3915, 0.7870, 0.8076],\n",
       "         [0.3366, 0.3295, 0.8507]],\n",
       "\n",
       "        [[0.9504, 0.2005, 0.6565],\n",
       "         [0.0521, 0.1483, 0.4264],\n",
       "         [0.0719, 0.8581, 0.0965],\n",
       "         ...,\n",
       "         [0.1484, 0.1604, 0.0078],\n",
       "         [0.1011, 0.8727, 0.2270],\n",
       "         [0.7983, 0.8556, 0.0756]],\n",
       "\n",
       "        ...,\n",
       "\n",
       "        [[0.2969, 0.8252, 0.3920],\n",
       "         [0.9259, 0.4606, 0.7545],\n",
       "         [0.5435, 0.4900, 0.3169],\n",
       "         ...,\n",
       "         [0.0111, 0.3385, 0.3640],\n",
       "         [0.6291, 0.7965, 0.0570],\n",
       "         [0.7495, 0.7258, 0.4121]],\n",
       "\n",
       "        [[0.5367, 0.2488, 0.5260],\n",
       "         [0.9197, 0.9209, 0.0426],\n",
       "         [0.1016, 0.7206, 0.1729],\n",
       "         ...,\n",
       "         [0.5443, 0.7713, 0.0178],\n",
       "         [0.6970, 0.6352, 0.4922],\n",
       "         [0.0956, 0.5833, 0.6680]],\n",
       "\n",
       "        [[0.1717, 0.7655, 0.3244],\n",
       "         [0.9377, 0.6719, 0.2399],\n",
       "         [0.0380, 0.4259, 0.7820],\n",
       "         ...,\n",
       "         [0.1422, 0.1916, 0.7046],\n",
       "         [0.2988, 0.3676, 0.5483],\n",
       "         [0.3485, 0.1839, 0.1772]]])"
      ]
     },
     "execution_count": 54,
     "metadata": {},
     "output_type": "execute_result"
    }
   ],
   "source": [
    "image = torch.rand(size=(224,224,3))\n",
    "image"
   ]
  },
  {
   "cell_type": "markdown",
   "metadata": {},
   "source": [
    "#### Create a range of tensors in pytorch"
   ]
  },
  {
   "cell_type": "code",
   "execution_count": 59,
   "metadata": {},
   "outputs": [
    {
     "name": "stderr",
     "output_type": "stream",
     "text": [
      "/var/folders/zf/nmlxjncx1y1dzrhzmb_8dm700000gn/T/ipykernel_51684/2106638349.py:2: UserWarning: torch.range is deprecated and will be removed in a future release because its behavior is inconsistent with Python's range builtin. Instead, use torch.arange, which produces values in [start, end).\n",
      "  rang = torch.range(0,10, step=2)\n"
     ]
    },
    {
     "data": {
      "text/plain": [
       "tensor([ 0.,  2.,  4.,  6.,  8., 10.])"
      ]
     },
     "execution_count": 59,
     "metadata": {},
     "output_type": "execute_result"
    }
   ],
   "source": [
    "rang = torch.range(0,10, step=2)\n",
    "rang"
   ]
  },
  {
   "cell_type": "code",
   "execution_count": 63,
   "metadata": {},
   "outputs": [
    {
     "data": {
      "text/plain": [
       "tensor([   0,   80,  160,  240,  320,  400,  480,  560,  640,  720,  800,  880,\n",
       "         960, 1040, 1120, 1200, 1280, 1360, 1440, 1520, 1600, 1680, 1760, 1840,\n",
       "        1920])"
      ]
     },
     "execution_count": 63,
     "metadata": {},
     "output_type": "execute_result"
    }
   ],
   "source": [
    "rang = torch.arange(0,2000, step=80)\n",
    "rang"
   ]
  },
  {
   "cell_type": "markdown",
   "metadata": {},
   "source": [
    "#### Tensor datatypes"
   ]
  },
  {
   "cell_type": "markdown",
   "metadata": {},
   "source": [
    "You can create tensors of different numerical datatypes such as float16, float32, float64 and int16, int32, int64"
   ]
  },
  {
   "cell_type": "code",
   "execution_count": 65,
   "metadata": {},
   "outputs": [
    {
     "data": {
      "text/plain": [
       "tensor([1., 3., 5.], dtype=torch.float16)"
      ]
     },
     "execution_count": 65,
     "metadata": {},
     "output_type": "execute_result"
    }
   ],
   "source": [
    "tensor_float16 = torch.tensor([1,3,5], dtype=torch.float16)\n",
    "tensor_float16"
   ]
  },
  {
   "cell_type": "code",
   "execution_count": 66,
   "metadata": {},
   "outputs": [
    {
     "data": {
      "text/plain": [
       "tensor([1., 3., 5.])"
      ]
     },
     "execution_count": 66,
     "metadata": {},
     "output_type": "execute_result"
    }
   ],
   "source": [
    "tensor_float32 = torch.tensor([1,3,5], dtype=torch.float32)\n",
    "tensor_float32"
   ]
  },
  {
   "cell_type": "code",
   "execution_count": 67,
   "metadata": {},
   "outputs": [
    {
     "data": {
      "text/plain": [
       "tensor([1., 3., 5.], dtype=torch.float64)"
      ]
     },
     "execution_count": 67,
     "metadata": {},
     "output_type": "execute_result"
    }
   ],
   "source": [
    "tensor_float64 = torch.tensor([1,3,5], dtype=torch.float64)\n",
    "tensor_float64"
   ]
  },
  {
   "cell_type": "markdown",
   "metadata": {},
   "source": [
    "#### Tensor attributes (information about tensors)"
   ]
  },
  {
   "cell_type": "code",
   "execution_count": 74,
   "metadata": {},
   "outputs": [
    {
     "name": "stdout",
     "output_type": "stream",
     "text": [
      "Ndim:  3\n",
      "Shape:  torch.Size([1, 4, 3])\n",
      "Dtype:  torch.int64\n",
      "index:  tensor([[ 1,  2,  4],\n",
      "        [ 5,  6,  7],\n",
      "        [ 8,  9,  0],\n",
      "        [11, 12, 13]])\n",
      "index:  tensor([1, 2, 4])\n",
      "Device:  cpu\n"
     ]
    }
   ],
   "source": [
    "print('Ndim: ', tensor.ndim) # returns the dimensions of a tensor\n",
    "print('Shape: ', tensor.shape) #returns the shape of a tensor\n",
    "print('Dtype: ', tensor.dtype) #returns the data type of a tensor\n",
    "print('index: ', tensor[0]) # returns the item(s) in the 0th index of a tensor\n",
    "print('index: ', tensor[0,0]) # returns the item(s) in the 0th and 1st index of a tensor\n",
    "print('Device: ', tensor.device) # returns the device of a tensor"
   ]
  },
  {
   "cell_type": "markdown",
   "metadata": {},
   "source": [
    "#### Manipulating tensors"
   ]
  },
  {
   "cell_type": "markdown",
   "metadata": {},
   "source": [
    "##### Some Tensor Operations\n",
    "_Pytorch provides builtin functions to compute the some mathematical operations on all elements in a tensor._\n",
    "- The torch.add function adds two tensors.\n",
    "- The torch.sub function subtracts two tensors.\n",
    "- The torch.mul function multiplies two tensors.\n",
    "- The torch.div function divides two tensors.\n",
    "- The torch.pow function raises a tensor to the power of another tensor.\n",
    "- The torch.sqrt function returns the square root of a tensor.\n",
    "- The torch.exp function returns the exponential of a tensor.\n",
    "- The torch.log function returns the natural logarithm of a tensor."
   ]
  },
  {
   "cell_type": "code",
   "execution_count": 79,
   "metadata": {},
   "outputs": [
    {
     "data": {
      "text/plain": [
       "tensor([[[ 6,  7,  9],\n",
       "         [10, 11, 12],\n",
       "         [13, 14,  5],\n",
       "         [16, 17, 18]]])"
      ]
     },
     "execution_count": 79,
     "metadata": {},
     "output_type": "execute_result"
    }
   ],
   "source": [
    "tensor + 5 # adds 5 to each element of a tensor"
   ]
  },
  {
   "cell_type": "code",
   "execution_count": 80,
   "metadata": {},
   "outputs": [
    {
     "data": {
      "text/plain": [
       "tensor([[[ 5, 10, 20],\n",
       "         [25, 30, 35],\n",
       "         [40, 45,  0],\n",
       "         [55, 60, 65]]])"
      ]
     },
     "execution_count": 80,
     "metadata": {},
     "output_type": "execute_result"
    }
   ],
   "source": [
    "tensor * 5 # multiplies 5 to each element of a tensor"
   ]
  },
  {
   "cell_type": "code",
   "execution_count": 81,
   "metadata": {},
   "outputs": [
    {
     "data": {
      "text/plain": [
       "tensor([[[0.2000, 0.4000, 0.8000],\n",
       "         [1.0000, 1.2000, 1.4000],\n",
       "         [1.6000, 1.8000, 0.0000],\n",
       "         [2.2000, 2.4000, 2.6000]]])"
      ]
     },
     "execution_count": 81,
     "metadata": {},
     "output_type": "execute_result"
    }
   ],
   "source": [
    "tensor / 5 # divides 5 to each element of a tensor"
   ]
  },
  {
   "cell_type": "code",
   "execution_count": 82,
   "metadata": {},
   "outputs": [
    {
     "data": {
      "text/plain": [
       "tensor([[[-4, -3, -1],\n",
       "         [ 0,  1,  2],\n",
       "         [ 3,  4, -5],\n",
       "         [ 6,  7,  8]]])"
      ]
     },
     "execution_count": 82,
     "metadata": {},
     "output_type": "execute_result"
    }
   ],
   "source": [
    "tensor - 5 # subtracts 5 from each element of a tensor"
   ]
  },
  {
   "cell_type": "code",
   "execution_count": 86,
   "metadata": {},
   "outputs": [
    {
     "data": {
      "text/plain": [
       "tensor([[[  1,   4,  16],\n",
       "         [ 25,  36,  49],\n",
       "         [ 64,  81,   0],\n",
       "         [121, 144, 169]]])"
      ]
     },
     "execution_count": 86,
     "metadata": {},
     "output_type": "execute_result"
    }
   ],
   "source": [
    "### let's start with an element wise multplication\n",
    "\n",
    "tensor * tensor"
   ]
  },
  {
   "cell_type": "code",
   "execution_count": 91,
   "metadata": {},
   "outputs": [
    {
     "data": {
      "text/plain": [
       "tensor([[ 21,  45,  26,  87],\n",
       "        [ 45, 110,  94, 218],\n",
       "        [ 26,  94, 145, 196],\n",
       "        [ 87, 218, 196, 434]])"
      ]
     },
     "execution_count": 91,
     "metadata": {},
     "output_type": "execute_result"
    }
   ],
   "source": [
    "torch.matmul(tensor.squeeze(), tensor.squeeze().T)"
   ]
  },
  {
   "cell_type": "code",
   "execution_count": 93,
   "metadata": {},
   "outputs": [
    {
     "name": "stdout",
     "output_type": "stream",
     "text": [
      "CPU times: user 45 µs, sys: 12 µs, total: 57 µs\n",
      "Wall time: 65.1 µs\n"
     ]
    },
    {
     "data": {
      "text/plain": [
       "tensor([[[  1,   4,  16],\n",
       "         [ 25,  36,  49],\n",
       "         [ 64,  81,   0],\n",
       "         [121, 144, 169]]])"
      ]
     },
     "execution_count": 93,
     "metadata": {},
     "output_type": "execute_result"
    }
   ],
   "source": [
    "%%time \n",
    "tensor * tensor"
   ]
  },
  {
   "cell_type": "code",
   "execution_count": 95,
   "metadata": {},
   "outputs": [
    {
     "name": "stdout",
     "output_type": "stream",
     "text": [
      "CPU times: user 606 µs, sys: 228 µs, total: 834 µs\n",
      "Wall time: 2.7 ms\n"
     ]
    },
    {
     "data": {
      "text/plain": [
       "tensor([[ 21,  45,  26,  87],\n",
       "        [ 45, 110,  94, 218],\n",
       "        [ 26,  94, 145, 196],\n",
       "        [ 87, 218, 196, 434]])"
      ]
     },
     "execution_count": 95,
     "metadata": {},
     "output_type": "execute_result"
    }
   ],
   "source": [
    "%%time\n",
    "torch.matmul(tensor.squeeze(), tensor.squeeze().T)\n"
   ]
  },
  {
   "cell_type": "code",
   "execution_count": null,
   "metadata": {},
   "outputs": [],
   "source": []
  }
 ],
 "metadata": {
  "kernelspec": {
   "display_name": "Python 3.10.0 ('pytorch')",
   "language": "python",
   "name": "python3"
  },
  "language_info": {
   "codemirror_mode": {
    "name": "ipython",
    "version": 3
   },
   "file_extension": ".py",
   "mimetype": "text/x-python",
   "name": "python",
   "nbconvert_exporter": "python",
   "pygments_lexer": "ipython3",
   "version": "3.10.0"
  },
  "orig_nbformat": 4,
  "vscode": {
   "interpreter": {
    "hash": "920618a1eb37c4bb7a3be65bbdadcdee3f435d9948b2f4911562f49c5fa464a5"
   }
  }
 },
 "nbformat": 4,
 "nbformat_minor": 2
}
