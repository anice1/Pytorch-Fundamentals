{
 "cells": [
  {
   "cell_type": "code",
   "execution_count": 1,
   "metadata": {},
   "outputs": [],
   "source": [
    "import torch\n",
    "import numpy as np\n",
    "import matplotlib.pyplot as plt"
   ]
  },
  {
   "cell_type": "code",
   "execution_count": 2,
   "metadata": {},
   "outputs": [
    {
     "data": {
      "text/plain": [
       "'1.12.0'"
      ]
     },
     "execution_count": 2,
     "metadata": {},
     "output_type": "execute_result"
    }
   ],
   "source": [
    "# check pytorch version\n",
    "torch.__version__"
   ]
  },
  {
   "cell_type": "markdown",
   "metadata": {},
   "source": [
    "### Intro to tensors in pytorch\n",
    "\n",
    "Tensors are a way to represent data in a computer memory.\n",
    "<br>Tensors are a multi-dimensional array of numbers.\n",
    "<br>Tensors can be of any size and shape.\n",
    "<br>Tensors can be of any type."
   ]
  },
  {
   "cell_type": "markdown",
   "metadata": {},
   "source": [
    "#### create a scalar tensor"
   ]
  },
  {
   "cell_type": "code",
   "execution_count": 3,
   "metadata": {},
   "outputs": [
    {
     "data": {
      "text/plain": [
       "tensor(10)"
      ]
     },
     "execution_count": 3,
     "metadata": {},
     "output_type": "execute_result"
    }
   ],
   "source": [
    "scalar = torch.tensor(10)\n",
    "scalar"
   ]
  },
  {
   "cell_type": "code",
   "execution_count": 5,
   "metadata": {},
   "outputs": [
    {
     "data": {
      "text/plain": [
       "10"
      ]
     },
     "execution_count": 5,
     "metadata": {},
     "output_type": "execute_result"
    }
   ],
   "source": [
    "# Attributes of a scalar tensor\n",
    "scalar.item() # returns the scalar value"
   ]
  },
  {
   "cell_type": "code",
   "execution_count": 6,
   "metadata": {},
   "outputs": [
    {
     "data": {
      "text/plain": [
       "torch.int64"
      ]
     },
     "execution_count": 6,
     "metadata": {},
     "output_type": "execute_result"
    }
   ],
   "source": [
    "scalar.dtype # returns the data type of the tensor"
   ]
  },
  {
   "cell_type": "code",
   "execution_count": 8,
   "metadata": {},
   "outputs": [
    {
     "data": {
      "text/plain": [
       "(torch.Size([3]), tensor([1, 2, 3]))"
      ]
     },
     "execution_count": 8,
     "metadata": {},
     "output_type": "execute_result"
    }
   ],
   "source": [
    "vector = torch.tensor([1,2,3]) # create a vector tensor\n",
    "vector.shape, vector"
   ]
  },
  {
   "cell_type": "code",
   "execution_count": 9,
   "metadata": {},
   "outputs": [
    {
     "data": {
      "text/plain": [
       "(torch.Size([2, 3]),\n",
       " tensor([[1, 2, 3],\n",
       "         [4, 5, 6]]))"
      ]
     },
     "execution_count": 9,
     "metadata": {},
     "output_type": "execute_result"
    }
   ],
   "source": [
    "matrix = torch.tensor([[1,2,3],[4,5,6]]) # create a matrix tensor\n",
    "matrix.shape, matrix"
   ]
  },
  {
   "cell_type": "code",
   "execution_count": 23,
   "metadata": {},
   "outputs": [
    {
     "data": {
      "text/plain": [
       "tensor([1, 2, 3])"
      ]
     },
     "execution_count": 23,
     "metadata": {},
     "output_type": "execute_result"
    }
   ],
   "source": [
    "matrix[0] # returns the values at the first row"
   ]
  },
  {
   "cell_type": "code",
   "execution_count": 13,
   "metadata": {},
   "outputs": [
    {
     "data": {
      "text/plain": [
       "tensor([[[ 1,  2,  4],\n",
       "         [ 5,  6,  7],\n",
       "         [ 8,  9,  0],\n",
       "         [11, 12, 13]]])"
      ]
     },
     "execution_count": 13,
     "metadata": {},
     "output_type": "execute_result"
    }
   ],
   "source": [
    "tensor = torch.tensor([[[1,2,4],[5,6,7],[8,9,0], [11,12,13]]]) # create a tensor with 3 dimensions\n",
    "tensor"
   ]
  },
  {
   "cell_type": "code",
   "execution_count": 14,
   "metadata": {},
   "outputs": [
    {
     "data": {
      "text/plain": [
       "torch.Size([1, 4, 3])"
      ]
     },
     "execution_count": 14,
     "metadata": {},
     "output_type": "execute_result"
    }
   ],
   "source": [
    "tensor.shape"
   ]
  },
  {
   "cell_type": "code",
   "execution_count": 15,
   "metadata": {},
   "outputs": [
    {
     "data": {
      "text/plain": [
       "tensor([ 2,  6,  9, 12])"
      ]
     },
     "execution_count": 15,
     "metadata": {},
     "output_type": "execute_result"
    }
   ],
   "source": [
    "tensor[0,:, 1]"
   ]
  },
  {
   "cell_type": "markdown",
   "metadata": {},
   "source": [
    "# Creating random Tensors\n",
    "* The torch.rand function returns a tensor of random numbers drawn from a uniform distribution.\n",
    "* The torch.randn function returns a tensor of random numbers drawn from a normal distribution.\n",
    "* The torch.empty function returns a tensor of zeros.\n",
    "* The torch.zeros function returns a tensor of zeros.\n",
    "* The torch.ones function returns a tensor of ones.\n",
    "*  The torch.randint function returns a tensor of random integers.\n",
    "* The torch.randperm function returns a tensor of random permutations."
   ]
  },
  {
   "cell_type": "code",
   "execution_count": 16,
   "metadata": {},
   "outputs": [
    {
     "data": {
      "text/plain": [
       "tensor([[0.4310, 0.6983, 0.7197],\n",
       "        [0.8606, 0.0679, 0.1456],\n",
       "        [0.0810, 0.0143, 0.5878]])"
      ]
     },
     "execution_count": 16,
     "metadata": {},
     "output_type": "execute_result"
    }
   ],
   "source": [
    "rand_dist = torch.rand((3,3))\n",
    "rand_dist"
   ]
  },
  {
   "cell_type": "code",
   "execution_count": 17,
   "metadata": {},
   "outputs": [
    {
     "data": {
      "text/plain": [
       "tensor([[ 0.0603, -0.5528, -0.0928],\n",
       "        [-0.3252, -0.8327,  1.1438],\n",
       "        [ 1.1094,  0.9643, -0.8869]])"
      ]
     },
     "execution_count": 17,
     "metadata": {},
     "output_type": "execute_result"
    }
   ],
   "source": [
    "## Tensor of random numbers drawn from a normal distribution\n",
    "randn = torch.randn((3,3))\n",
    "randn"
   ]
  },
  {
   "cell_type": "code",
   "execution_count": 21,
   "metadata": {},
   "outputs": [
    {
     "data": {
      "text/plain": [
       "tensor([[0., 0., 0.],\n",
       "        [0., 0., 0.],\n",
       "        [0., 0., 0.]])"
      ]
     },
     "execution_count": 21,
     "metadata": {},
     "output_type": "execute_result"
    }
   ],
   "source": [
    "rand_emp = torch.empty((3,3))\n",
    "rand_emp"
   ]
  },
  {
   "cell_type": "code",
   "execution_count": 22,
   "metadata": {},
   "outputs": [
    {
     "data": {
      "text/plain": [
       "tensor([[0., 0., 0.],\n",
       "        [0., 0., 0.],\n",
       "        [0., 0., 0.]])"
      ]
     },
     "execution_count": 22,
     "metadata": {},
     "output_type": "execute_result"
    }
   ],
   "source": [
    "## Tensor of zeros\n",
    "rand_zeros = torch.zeros((3,3))\n",
    "rand_zeros"
   ]
  },
  {
   "cell_type": "code",
   "execution_count": 23,
   "metadata": {},
   "outputs": [
    {
     "data": {
      "text/plain": [
       "tensor([[1., 1., 1.],\n",
       "        [1., 1., 1.],\n",
       "        [1., 1., 1.]])"
      ]
     },
     "execution_count": 23,
     "metadata": {},
     "output_type": "execute_result"
    }
   ],
   "source": [
    "## Tensor of Ones\n",
    "rand_ones = torch.ones([3,3])\n",
    "rand_ones"
   ]
  },
  {
   "cell_type": "code",
   "execution_count": 24,
   "metadata": {},
   "outputs": [
    {
     "data": {
      "text/plain": [
       "tensor([[5, 3, 5],\n",
       "        [7, 8, 2],\n",
       "        [8, 5, 4]])"
      ]
     },
     "execution_count": 24,
     "metadata": {},
     "output_type": "execute_result"
    }
   ],
   "source": [
    "rand_int = torch.randint(0,10,(3,3))\n",
    "rand_int"
   ]
  },
  {
   "cell_type": "code",
   "execution_count": 25,
   "metadata": {},
   "outputs": [
    {
     "data": {
      "text/plain": [
       "tensor([1, 7, 4, 0, 6, 9, 8, 3, 2, 5])"
      ]
     },
     "execution_count": 25,
     "metadata": {},
     "output_type": "execute_result"
    }
   ],
   "source": [
    "rand_perm = torch.randperm(10)\n",
    "rand_perm"
   ]
  },
  {
   "cell_type": "code",
   "execution_count": 26,
   "metadata": {},
   "outputs": [
    {
     "data": {
      "text/plain": [
       "tensor([[[0.7938, 0.2095, 0.7951],\n",
       "         [0.3333, 0.8421, 0.2528],\n",
       "         [0.5694, 0.1518, 0.0717],\n",
       "         ...,\n",
       "         [0.0435, 0.4787, 0.5140],\n",
       "         [0.2706, 0.2989, 0.4046],\n",
       "         [0.7540, 0.6064, 0.0679]],\n",
       "\n",
       "        [[0.4938, 0.8626, 0.2224],\n",
       "         [0.2732, 0.5218, 0.6903],\n",
       "         [0.1239, 0.4968, 0.5044],\n",
       "         ...,\n",
       "         [0.5928, 0.6475, 0.1609],\n",
       "         [0.3232, 0.2901, 0.2354],\n",
       "         [0.5643, 0.1077, 0.1416]],\n",
       "\n",
       "        [[0.5200, 0.9126, 0.0500],\n",
       "         [0.5508, 0.6352, 0.5293],\n",
       "         [0.4138, 0.0468, 0.6507],\n",
       "         ...,\n",
       "         [0.3750, 0.8788, 0.9921],\n",
       "         [0.5587, 0.1156, 0.8047],\n",
       "         [0.7328, 0.7993, 0.1037]],\n",
       "\n",
       "        ...,\n",
       "\n",
       "        [[0.9529, 0.9307, 0.6593],\n",
       "         [0.6145, 0.6631, 0.3646],\n",
       "         [0.1841, 0.9575, 0.0337],\n",
       "         ...,\n",
       "         [0.6841, 0.0775, 0.9207],\n",
       "         [0.0102, 0.4311, 0.3039],\n",
       "         [0.8643, 0.7772, 0.7812]],\n",
       "\n",
       "        [[0.9945, 0.4465, 0.8230],\n",
       "         [0.7884, 0.4790, 0.3312],\n",
       "         [0.3097, 0.7992, 0.8297],\n",
       "         ...,\n",
       "         [0.9819, 0.2345, 0.0104],\n",
       "         [0.6497, 0.0772, 0.0568],\n",
       "         [0.3447, 0.2669, 0.1965]],\n",
       "\n",
       "        [[0.9445, 0.8156, 0.6305],\n",
       "         [0.9273, 0.3888, 0.2581],\n",
       "         [0.0565, 0.8115, 0.7823],\n",
       "         ...,\n",
       "         [0.3322, 0.3277, 0.1414],\n",
       "         [0.5292, 0.8261, 0.5616],\n",
       "         [0.6852, 0.2010, 0.9529]]])"
      ]
     },
     "execution_count": 26,
     "metadata": {},
     "output_type": "execute_result"
    }
   ],
   "source": [
    "image = torch.rand(size=(224,224,3))\n",
    "image"
   ]
  },
  {
   "cell_type": "markdown",
   "metadata": {},
   "source": [
    "### Create a range of tensors in pytorch"
   ]
  },
  {
   "cell_type": "code",
   "execution_count": 27,
   "metadata": {},
   "outputs": [
    {
     "name": "stderr",
     "output_type": "stream",
     "text": [
      "/var/folders/zf/nmlxjncx1y1dzrhzmb_8dm700000gn/T/ipykernel_27927/4046705229.py:1: UserWarning: torch.range is deprecated and will be removed in a future release because its behavior is inconsistent with Python's range builtin. Instead, use torch.arange, which produces values in [start, end).\n",
      "  rang = torch.range(0,10, step=2)\n"
     ]
    },
    {
     "data": {
      "text/plain": [
       "tensor([ 0.,  2.,  4.,  6.,  8., 10.])"
      ]
     },
     "execution_count": 27,
     "metadata": {},
     "output_type": "execute_result"
    }
   ],
   "source": [
    "rang = torch.range(0,10, step=2)\n",
    "rang"
   ]
  },
  {
   "cell_type": "code",
   "execution_count": 63,
   "metadata": {},
   "outputs": [
    {
     "data": {
      "text/plain": [
       "tensor([   0,   80,  160,  240,  320,  400,  480,  560,  640,  720,  800,  880,\n",
       "         960, 1040, 1120, 1200, 1280, 1360, 1440, 1520, 1600, 1680, 1760, 1840,\n",
       "        1920])"
      ]
     },
     "execution_count": 63,
     "metadata": {},
     "output_type": "execute_result"
    }
   ],
   "source": [
    "rang = torch.arange(0,2000, step=80)\n",
    "rang"
   ]
  },
  {
   "cell_type": "markdown",
   "metadata": {},
   "source": [
    "### Tensor datatypes"
   ]
  },
  {
   "cell_type": "markdown",
   "metadata": {},
   "source": [
    "You can create tensors of different numerical datatypes such as float16, float32, float64 and int16, int32, int64"
   ]
  },
  {
   "cell_type": "code",
   "execution_count": 28,
   "metadata": {},
   "outputs": [
    {
     "data": {
      "text/plain": [
       "tensor([1., 3., 5.], dtype=torch.float16)"
      ]
     },
     "execution_count": 28,
     "metadata": {},
     "output_type": "execute_result"
    }
   ],
   "source": [
    "tensor_float16 = torch.tensor([1,3,5], dtype=torch.float16)\n",
    "tensor_float16"
   ]
  },
  {
   "cell_type": "code",
   "execution_count": 29,
   "metadata": {},
   "outputs": [
    {
     "data": {
      "text/plain": [
       "tensor([1., 3., 5.])"
      ]
     },
     "execution_count": 29,
     "metadata": {},
     "output_type": "execute_result"
    }
   ],
   "source": [
    "tensor_float32 = torch.tensor([1,3,5], dtype=torch.float32)\n",
    "tensor_float32"
   ]
  },
  {
   "cell_type": "code",
   "execution_count": 30,
   "metadata": {},
   "outputs": [
    {
     "data": {
      "text/plain": [
       "tensor([1., 3., 5.], dtype=torch.float64)"
      ]
     },
     "execution_count": 30,
     "metadata": {},
     "output_type": "execute_result"
    }
   ],
   "source": [
    "tensor_float64 = torch.tensor([1,3,5], dtype=torch.float64)\n",
    "tensor_float64"
   ]
  },
  {
   "cell_type": "markdown",
   "metadata": {},
   "source": [
    "### Tensor attributes (information about tensors)"
   ]
  },
  {
   "cell_type": "code",
   "execution_count": 31,
   "metadata": {},
   "outputs": [
    {
     "name": "stdout",
     "output_type": "stream",
     "text": [
      "Ndim:  3\n",
      "Shape:  torch.Size([1, 4, 3])\n",
      "Dtype:  torch.int64\n",
      "index:  tensor([[ 1,  2,  4],\n",
      "        [ 5,  6,  7],\n",
      "        [ 8,  9,  0],\n",
      "        [11, 12, 13]])\n",
      "index:  tensor([1, 2, 4])\n",
      "Device:  cpu\n"
     ]
    }
   ],
   "source": [
    "print('Ndim: ', tensor.ndim) # returns the dimensions of a tensor\n",
    "print('Shape: ', tensor.shape) #returns the shape of a tensor\n",
    "print('Dtype: ', tensor.dtype) #returns the data type of a tensor\n",
    "print('index: ', tensor[0]) # returns the item(s) in the 0th index of a tensor\n",
    "print('index: ', tensor[0,0]) # returns the item(s) in the 0th and 1st index of a tensor\n",
    "print('Device: ', tensor.device) # returns the device of a tensor"
   ]
  },
  {
   "cell_type": "markdown",
   "metadata": {},
   "source": [
    "### Manipulating tensors (Tensor Operations)"
   ]
  },
  {
   "cell_type": "markdown",
   "metadata": {},
   "source": [
    "_Pytorch provides builtin functions to compute the some mathematical operations on all elements in a tensor._\n",
    "- The torch.add function adds two tensors.\n",
    "- The torch.sub function subtracts two tensors.\n",
    "- The torch.mul function multiplies two tensors.\n",
    "- The torch.div function divides two tensors.\n",
    "- The torch.pow function raises a tensor to the power of another tensor.\n",
    "- The torch.sqrt function returns the square root of a tensor.\n",
    "- The torch.exp function returns the exponential of a tensor.\n",
    "- The torch.log function returns the natural logarithm of a tensor."
   ]
  },
  {
   "cell_type": "code",
   "execution_count": 32,
   "metadata": {},
   "outputs": [
    {
     "data": {
      "text/plain": [
       "tensor([[[ 6,  7,  9],\n",
       "         [10, 11, 12],\n",
       "         [13, 14,  5],\n",
       "         [16, 17, 18]]])"
      ]
     },
     "execution_count": 32,
     "metadata": {},
     "output_type": "execute_result"
    }
   ],
   "source": [
    "tensor + 5 # adds 5 to each element of a tensor"
   ]
  },
  {
   "cell_type": "code",
   "execution_count": 33,
   "metadata": {},
   "outputs": [
    {
     "data": {
      "text/plain": [
       "tensor([[[ 5, 10, 20],\n",
       "         [25, 30, 35],\n",
       "         [40, 45,  0],\n",
       "         [55, 60, 65]]])"
      ]
     },
     "execution_count": 33,
     "metadata": {},
     "output_type": "execute_result"
    }
   ],
   "source": [
    "tensor * 5 # multiplies 5 to each element of a tensor"
   ]
  },
  {
   "cell_type": "code",
   "execution_count": 34,
   "metadata": {},
   "outputs": [
    {
     "data": {
      "text/plain": [
       "tensor([[[0.2000, 0.4000, 0.8000],\n",
       "         [1.0000, 1.2000, 1.4000],\n",
       "         [1.6000, 1.8000, 0.0000],\n",
       "         [2.2000, 2.4000, 2.6000]]])"
      ]
     },
     "execution_count": 34,
     "metadata": {},
     "output_type": "execute_result"
    }
   ],
   "source": [
    "tensor / 5 # divides 5 to each element of a tensor"
   ]
  },
  {
   "cell_type": "code",
   "execution_count": 35,
   "metadata": {},
   "outputs": [
    {
     "data": {
      "text/plain": [
       "tensor([[[-4, -3, -1],\n",
       "         [ 0,  1,  2],\n",
       "         [ 3,  4, -5],\n",
       "         [ 6,  7,  8]]])"
      ]
     },
     "execution_count": 35,
     "metadata": {},
     "output_type": "execute_result"
    }
   ],
   "source": [
    "tensor - 5 # subtracts 5 from each element of a tensor"
   ]
  },
  {
   "cell_type": "code",
   "execution_count": 36,
   "metadata": {},
   "outputs": [
    {
     "data": {
      "text/plain": [
       "tensor([[[  1,   4,  16],\n",
       "         [ 25,  36,  49],\n",
       "         [ 64,  81,   0],\n",
       "         [121, 144, 169]]])"
      ]
     },
     "execution_count": 36,
     "metadata": {},
     "output_type": "execute_result"
    }
   ],
   "source": [
    "### let's start with an element wise multplication\n",
    "\n",
    "tensor * tensor"
   ]
  },
  {
   "cell_type": "code",
   "execution_count": 37,
   "metadata": {},
   "outputs": [
    {
     "data": {
      "text/plain": [
       "tensor([[ 21,  45,  26,  87],\n",
       "        [ 45, 110,  94, 218],\n",
       "        [ 26,  94, 145, 196],\n",
       "        [ 87, 218, 196, 434]])"
      ]
     },
     "execution_count": 37,
     "metadata": {},
     "output_type": "execute_result"
    }
   ],
   "source": [
    "torch.matmul(tensor.squeeze(), tensor.squeeze().T)"
   ]
  },
  {
   "cell_type": "code",
   "execution_count": 38,
   "metadata": {},
   "outputs": [
    {
     "name": "stdout",
     "output_type": "stream",
     "text": [
      "CPU times: user 41 µs, sys: 6 µs, total: 47 µs\n",
      "Wall time: 52 µs\n"
     ]
    },
    {
     "data": {
      "text/plain": [
       "tensor([[[  1,   4,  16],\n",
       "         [ 25,  36,  49],\n",
       "         [ 64,  81,   0],\n",
       "         [121, 144, 169]]])"
      ]
     },
     "execution_count": 38,
     "metadata": {},
     "output_type": "execute_result"
    }
   ],
   "source": [
    "%%time \n",
    "tensor * tensor"
   ]
  },
  {
   "cell_type": "code",
   "execution_count": 39,
   "metadata": {},
   "outputs": [
    {
     "name": "stdout",
     "output_type": "stream",
     "text": [
      "CPU times: user 551 µs, sys: 522 µs, total: 1.07 ms\n",
      "Wall time: 620 µs\n"
     ]
    },
    {
     "data": {
      "text/plain": [
       "tensor([[ 21,  45,  26,  87],\n",
       "        [ 45, 110,  94, 218],\n",
       "        [ 26,  94, 145, 196],\n",
       "        [ 87, 218, 196, 434]])"
      ]
     },
     "execution_count": 39,
     "metadata": {},
     "output_type": "execute_result"
    }
   ],
   "source": [
    "%%time\n",
    "torch.matmul(tensor.squeeze(), tensor.squeeze().T)"
   ]
  },
  {
   "cell_type": "markdown",
   "metadata": {},
   "source": [
    "### Finding the min, max, mean and sum"
   ]
  },
  {
   "cell_type": "code",
   "execution_count": 40,
   "metadata": {},
   "outputs": [
    {
     "data": {
      "text/plain": [
       "(tensor(0), tensor(13))"
      ]
     },
     "execution_count": 40,
     "metadata": {},
     "output_type": "execute_result"
    }
   ],
   "source": [
    "tensor.min(), tensor.max()"
   ]
  },
  {
   "cell_type": "code",
   "execution_count": 41,
   "metadata": {},
   "outputs": [
    {
     "data": {
      "text/plain": [
       "(tensor(6.5000), tensor(78.))"
      ]
     },
     "execution_count": 41,
     "metadata": {},
     "output_type": "execute_result"
    }
   ],
   "source": [
    "tensor.mean(dtype=torch.float32), tensor.sum(dtype=torch.float32)"
   ]
  },
  {
   "cell_type": "code",
   "execution_count": 42,
   "metadata": {},
   "outputs": [
    {
     "data": {
      "text/plain": [
       "(tensor(8), tensor(11))"
      ]
     },
     "execution_count": 42,
     "metadata": {},
     "output_type": "execute_result"
    }
   ],
   "source": [
    "tensor.squeeze().argmin(), tensor.squeeze().argmax()"
   ]
  },
  {
   "cell_type": "code",
   "execution_count": 43,
   "metadata": {},
   "outputs": [
    {
     "data": {
      "text/plain": [
       "(tensor(0), tensor(13))"
      ]
     },
     "execution_count": 43,
     "metadata": {},
     "output_type": "execute_result"
    }
   ],
   "source": [
    "tensor.squeeze().flatten()[8], tensor.squeeze().flatten()[11]"
   ]
  },
  {
   "cell_type": "markdown",
   "metadata": {},
   "source": [
    "### Reshaping, viewing and stacking"
   ]
  },
  {
   "cell_type": "code",
   "execution_count": 44,
   "metadata": {},
   "outputs": [
    {
     "data": {
      "text/plain": [
       "tensor([[81, 78, 48],\n",
       "        [46, 76, 90],\n",
       "        [96, 45, 85],\n",
       "        [61, 18, 77]])"
      ]
     },
     "execution_count": 44,
     "metadata": {},
     "output_type": "execute_result"
    }
   ],
   "source": [
    "new_tensor = torch.randint(0,100, (4,3))\n",
    "new_tensor"
   ]
  },
  {
   "cell_type": "code",
   "execution_count": 147,
   "metadata": {},
   "outputs": [
    {
     "data": {
      "text/plain": [
       "tensor([[59, 13, 10, 55],\n",
       "        [33, 32, 64, 91],\n",
       "        [69, 87, 29, 84]])"
      ]
     },
     "execution_count": 147,
     "metadata": {},
     "output_type": "execute_result"
    }
   ],
   "source": [
    "# reshape new_tensor\n",
    "new_tensor.permute(1,0)"
   ]
  },
  {
   "cell_type": "code",
   "execution_count": 152,
   "metadata": {},
   "outputs": [
    {
     "data": {
      "text/plain": [
       "torch.Size([8, 5, 2])"
      ]
     },
     "execution_count": 152,
     "metadata": {},
     "output_type": "execute_result"
    }
   ],
   "source": [
    "x = torch.randn(2, 8, 5)\n",
    "x.size()\n",
    "torch.permute(x, (1, 2, 0)).size()"
   ]
  },
  {
   "cell_type": "markdown",
   "metadata": {},
   "source": [
    "### Squeezing, unsqueezing and permuting"
   ]
  },
  {
   "cell_type": "code",
   "execution_count": 156,
   "metadata": {},
   "outputs": [
    {
     "data": {
      "text/plain": [
       "tensor([[ 1,  2,  4],\n",
       "        [ 5,  6,  7],\n",
       "        [ 8,  9,  0],\n",
       "        [11, 12, 13]])"
      ]
     },
     "execution_count": 156,
     "metadata": {},
     "output_type": "execute_result"
    }
   ],
   "source": [
    "tensor.squeeze() # removes the singleton dimensions"
   ]
  },
  {
   "cell_type": "code",
   "execution_count": 162,
   "metadata": {},
   "outputs": [
    {
     "data": {
      "text/plain": [
       "tensor([[[[ 1,  2,  4],\n",
       "          [ 5,  6,  7],\n",
       "          [ 8,  9,  0],\n",
       "          [11, 12, 13]]]])"
      ]
     },
     "execution_count": 162,
     "metadata": {},
     "output_type": "execute_result"
    }
   ],
   "source": [
    "tensor.unsqueeze(0) # adds a singleton dimension"
   ]
  },
  {
   "cell_type": "code",
   "execution_count": 166,
   "metadata": {},
   "outputs": [
    {
     "data": {
      "text/plain": [
       "torch.Size([4, 3, 1])"
      ]
     },
     "execution_count": 166,
     "metadata": {},
     "output_type": "execute_result"
    }
   ],
   "source": [
    "tensor.permute(1,2,0).shape # transpose the tensor"
   ]
  },
  {
   "cell_type": "markdown",
   "metadata": {},
   "source": [
    "### Pseudo Randomness in PyTorch"
   ]
  },
  {
   "cell_type": "code",
   "execution_count": 170,
   "metadata": {},
   "outputs": [
    {
     "data": {
      "text/plain": [
       "tensor([[0.8823, 0.9150, 0.3829],\n",
       "        [0.9593, 0.3904, 0.6009]])"
      ]
     },
     "execution_count": 170,
     "metadata": {},
     "output_type": "execute_result"
    }
   ],
   "source": [
    "torch.manual_seed(42)\n",
    "torch.rand(2, 3)"
   ]
  },
  {
   "cell_type": "markdown",
   "metadata": {},
   "source": [
    "### Check if we are using a GPU with PyTorch\n",
    "One key feature of pytorch is allows you decide if an operation is going to be run on the GPU or the CPU.\n",
    "e.g.\n",
    "\n",
    "```python\n",
    "if torch.cuda.is_available():\n",
    "    device = torch.device(\"cuda\")\n",
    "else:\n",
    "    device = torch.device(\"cpu\")\n",
    "\n",
    "tensor = torch.rand(1, device=device)\n",
    "\n",
    "```\n",
    "By doing this you can run the tensor on the GPU if it is available.\n",
    "**Note:** If a tensor is of device type `cuda` you can not automatically transform it into a numpy array. First covert it to a numpy array using `tensor.cpu()` method"
   ]
  },
  {
   "cell_type": "code",
   "execution_count": 173,
   "metadata": {},
   "outputs": [
    {
     "data": {
      "text/plain": [
       "False"
      ]
     },
     "execution_count": 173,
     "metadata": {},
     "output_type": "execute_result"
    }
   ],
   "source": [
    "torch.cuda.is_available() # returns true if a GPU is available"
   ]
  },
  {
   "cell_type": "code",
   "execution_count": 188,
   "metadata": {},
   "outputs": [
    {
     "data": {
      "text/plain": [
       "tensor([[[0.1712, 0.1170, 0.3688],\n",
       "         [0.5366, 0.3300, 0.6468],\n",
       "         [0.7222, 0.3218, 0.4508],\n",
       "         ...,\n",
       "         [0.8235, 0.2978, 0.5761],\n",
       "         [0.7499, 0.4098, 0.5182],\n",
       "         [0.1959, 0.3049, 0.2355]],\n",
       "\n",
       "        [[0.2073, 0.2045, 0.5881],\n",
       "         [0.4014, 0.8144, 0.0928],\n",
       "         [0.8582, 0.8379, 0.6921],\n",
       "         ...,\n",
       "         [0.6604, 0.5686, 0.5791],\n",
       "         [0.0998, 0.6248, 0.5315],\n",
       "         [0.9076, 0.0639, 0.2505]],\n",
       "\n",
       "        [[0.2638, 0.9545, 0.0444],\n",
       "         [0.9898, 0.5918, 0.0317],\n",
       "         [0.5858, 0.7498, 0.9373],\n",
       "         ...,\n",
       "         [0.2334, 0.9667, 0.6171],\n",
       "         [0.3338, 0.1558, 0.2181],\n",
       "         [0.7379, 0.6242, 0.6336]],\n",
       "\n",
       "        ...,\n",
       "\n",
       "        [[0.6428, 0.0256, 0.8170],\n",
       "         [0.0220, 0.9024, 0.1055],\n",
       "         [0.3903, 0.6022, 0.8950],\n",
       "         ...,\n",
       "         [0.2216, 0.2562, 0.5886],\n",
       "         [0.8634, 0.5491, 0.8421],\n",
       "         [0.5761, 0.1636, 0.9478]],\n",
       "\n",
       "        [[0.2733, 0.4266, 0.9744],\n",
       "         [0.9458, 0.3327, 0.5397],\n",
       "         [0.8260, 0.5291, 0.3709],\n",
       "         ...,\n",
       "         [0.8572, 0.8757, 0.4793],\n",
       "         [0.1733, 0.1239, 0.5062],\n",
       "         [0.0040, 0.8986, 0.5800]],\n",
       "\n",
       "        [[0.7854, 0.3629, 0.0281],\n",
       "         [0.8152, 0.8352, 0.3185],\n",
       "         [0.3635, 0.5565, 0.3021],\n",
       "         ...,\n",
       "         [0.6728, 0.3038, 0.6222],\n",
       "         [0.2457, 0.3331, 0.7975],\n",
       "         [0.7216, 0.1655, 0.0738]]])"
      ]
     },
     "execution_count": 188,
     "metadata": {},
     "output_type": "execute_result"
    }
   ],
   "source": [
    "tensor = torch.rand([224,1000,3], device=device)\n",
    "tensor"
   ]
  },
  {
   "cell_type": "code",
   "execution_count": 184,
   "metadata": {},
   "outputs": [
    {
     "data": {
      "text/plain": [
       "'cpu'"
      ]
     },
     "execution_count": 184,
     "metadata": {},
     "output_type": "execute_result"
    }
   ],
   "source": [
    "device = 'cuda' if torch.cuda.is_available() else 'cpu' # check if cuda is available\n",
    "device"
   ]
  },
  {
   "cell_type": "code",
   "execution_count": 183,
   "metadata": {},
   "outputs": [
    {
     "data": {
      "text/plain": [
       "0"
      ]
     },
     "execution_count": 183,
     "metadata": {},
     "output_type": "execute_result"
    }
   ],
   "source": [
    "torch.cuda.device_count() # returns the number of CUDA devices available"
   ]
  }
 ],
 "metadata": {
  "kernelspec": {
   "display_name": "Python 3.10.0 ('pytorch')",
   "language": "python",
   "name": "python3"
  },
  "language_info": {
   "codemirror_mode": {
    "name": "ipython",
    "version": 3
   },
   "file_extension": ".py",
   "mimetype": "text/x-python",
   "name": "python",
   "nbconvert_exporter": "python",
   "pygments_lexer": "ipython3",
   "version": "3.10.0"
  },
  "orig_nbformat": 4,
  "vscode": {
   "interpreter": {
    "hash": "920618a1eb37c4bb7a3be65bbdadcdee3f435d9948b2f4911562f49c5fa464a5"
   }
  }
 },
 "nbformat": 4,
 "nbformat_minor": 2
}
